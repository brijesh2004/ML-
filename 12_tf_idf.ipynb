{
  "nbformat": 4,
  "nbformat_minor": 0,
  "metadata": {
    "colab": {
      "provenance": [],
      "toc_visible": true,
      "authorship_tag": "ABX9TyPInUcmhnLMx8hooVbgzYRY",
      "include_colab_link": true
    },
    "kernelspec": {
      "name": "python3",
      "display_name": "Python 3"
    },
    "language_info": {
      "name": "python"
    }
  },
  "cells": [
    {
      "cell_type": "markdown",
      "metadata": {
        "id": "view-in-github",
        "colab_type": "text"
      },
      "source": [
        "<a href=\"https://colab.research.google.com/github/brijesh2004/ML-/blob/main/12_tf_idf.ipynb\" target=\"_parent\"><img src=\"https://colab.research.google.com/assets/colab-badge.svg\" alt=\"Open In Colab\"/></a>"
      ]
    },
    {
      "cell_type": "markdown",
      "source": [
        "# Tf-idf"
      ],
      "metadata": {
        "id": "v7XzHXLJ-Rrj"
      }
    },
    {
      "cell_type": "code",
      "execution_count": 1,
      "metadata": {
        "id": "bDbq-KMA56Op"
      },
      "outputs": [],
      "source": [
        "\n",
        "from sklearn.feature_extraction.text import TfidfVectorizer"
      ]
    },
    {
      "cell_type": "code",
      "source": [
        "# convert the textual data to feature vectors\n",
        "d0=\"Brijesh\"\n",
        "d1=\"Singh\"\n",
        "d2=\"Gorakhpur\"\n",
        "string = [d0 ,d1 ,d2];\n",
        "\n",
        "vectorizer = TfidfVectorizer()\n",
        "\n"
      ],
      "metadata": {
        "id": "gN6VaRPa-s0t"
      },
      "execution_count": 2,
      "outputs": []
    },
    {
      "cell_type": "code",
      "source": [
        "vectorizer.fit(string)\n",
        "\n",
        "x = vectorizer.transform(string)"
      ],
      "metadata": {
        "id": "4DH2hBYF_Klh"
      },
      "execution_count": 4,
      "outputs": []
    },
    {
      "cell_type": "code",
      "source": [
        "print(x)"
      ],
      "metadata": {
        "colab": {
          "base_uri": "https://localhost:8080/"
        },
        "id": "TBJZEwAj_MSn",
        "outputId": "e9148a9e-ada1-4759-f233-d8c0df8f93e7"
      },
      "execution_count": 6,
      "outputs": [
        {
          "output_type": "stream",
          "name": "stdout",
          "text": [
            "  (0, 0)\t1.0\n",
            "  (1, 2)\t1.0\n",
            "  (2, 1)\t1.0\n"
          ]
        }
      ]
    },
    {
      "cell_type": "code",
      "source": [],
      "metadata": {
        "id": "lfjuILSH_ZZr"
      },
      "execution_count": null,
      "outputs": []
    }
  ]
}